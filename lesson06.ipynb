{
 "cells": [
  {
   "cell_type": "markdown",
   "metadata": {},
   "source": [
    "# Понятие о производной"
   ]
  },
  {
   "cell_type": "markdown",
   "metadata": {},
   "source": [
    "## 1. Найти производную выражения:"
   ]
  },
  {
   "cell_type": "markdown",
   "metadata": {},
   "source": [
    "### $$c.\\,\\,\\,\\,\\sqrt{\\sin^2(\\ln(x^3))}$$"
   ]
  },
  {
   "cell_type": "markdown",
   "metadata": {},
   "source": [
    "### $$\\bigl(\\sqrt{\\sin^2(\\ln(x^3))}\\bigr)'=\\frac{1}{2\\sqrt{\\sin^2(\\ln(x^3))}}\\cdot(\\sin^2(\\ln(x^3)))'=\\frac{1}{2\\sqrt{\\sin^2(\\ln(x^3))}}\\cdot2\\sin(\\ln(x^3))\\cdot(\\sin(\\ln(x^3)))'=$$"
   ]
  },
  {
   "cell_type": "markdown",
   "metadata": {},
   "source": [
    "### $$=\\frac{\\sin(\\ln(x^3))}{\\sqrt{\\sin^2(\\ln(x^3))}}\\cdot\\cos(\\ln(x^3))\\cdot(\\ln(x^3))'=\\frac{\\sin(\\ln(x^3))}{\\sqrt{\\sin^2(\\ln(x^3))}}\\cdot\\cos(\\ln(x^3))\\cdot\\frac{3}{x}=$$"
   ]
  },
  {
   "cell_type": "markdown",
   "metadata": {},
   "source": [
    "### $$=\\frac{3}{x}\\cdot\\frac{\\sin(\\ln(x^3))}{\\sqrt{\\sin^2(\\ln(x^3))}}\\cdot\\frac{\\cos(\\ln(x^3))\\cdot\\sin(\\ln(x^3))}{\\sin(\\ln(x^3))}=\\frac{3\\sin^2(\\ln(x^3))\\cdot\\cot(\\ln(x^3))}{x\\sqrt{\\sin^2(\\ln(x^3))}}=\\frac{3\\sqrt{\\sin^2(\\ln(x^3))}\\cdot\\cot(\\ln(x^3))}{x}$$"
   ]
  },
  {
   "cell_type": "markdown",
   "metadata": {},
   "source": [
    "## _Ответ:_ $\\frac{3\\sqrt{\\sin^2(\\ln(x^3))}\\cdot\\cot(\\ln(x^3))}{x}$"
   ]
  },
  {
   "cell_type": "markdown",
   "metadata": {},
   "source": [
    "## 2. Найти выражение производной функции и ее значение в точке:"
   ]
  },
  {
   "cell_type": "markdown",
   "metadata": {},
   "source": [
    "### $$f(x)=\\cos(x^2+3x),\\,\\,x_0=\\sqrt{\\pi}$$"
   ]
  },
  {
   "cell_type": "markdown",
   "metadata": {},
   "source": [
    "### $$f'(x)=-\\sin(x^2+3x)\\cdot(x^2+3x)'=-(2x+3)\\sin(x^2+3x)$$"
   ]
  },
  {
   "cell_type": "markdown",
   "metadata": {},
   "source": [
    "### $$f'(x_0)=f'(\\sqrt{\\pi})=-(2\\sqrt{\\pi}+3)\\sin(\\pi+3\\sqrt{\\pi})=(2\\sqrt{\\pi}+3)\\sin(3\\sqrt{\\pi})$$"
   ]
  },
  {
   "cell_type": "markdown",
   "metadata": {},
   "source": [
    "## _Ответ:_ $f'(x)=-(2x+3)\\sin(x^2+3x);\\,f'(\\sqrt{\\pi})=(2\\sqrt{\\pi}+3)\\sin(3\\sqrt{\\pi})$"
   ]
  },
  {
   "cell_type": "markdown",
   "metadata": {},
   "source": [
    "## 3. Найти значение производной функции в точке:"
   ]
  },
  {
   "cell_type": "markdown",
   "metadata": {},
   "source": [
    "### $$f(x)=\\frac{x^3-x^2-x-1}{1+2x+3x^2-4x^3},\\,\\,x_0=0$$"
   ]
  },
  {
   "cell_type": "markdown",
   "metadata": {},
   "source": [
    "### Преобразуем вид исходной функции: "
   ]
  },
  {
   "cell_type": "markdown",
   "metadata": {},
   "source": [
    "### $$f(x)=\\frac{x^3-x^2-x-1}{1+2x+3x^2-4x^3}=-\\bigl(\\frac{-x^3+x^2+x+1}{-4x^3+3x^2+2x+1}\\bigr)=-\\bigl(\\frac{(-4x^3+3x^2+2x+1)+(3x^3-2x^2-x)}{-4x^3+3x^2+2x+1}\\bigr)=$$"
   ]
  },
  {
   "cell_type": "markdown",
   "metadata": {},
   "source": [
    "### $$=-1-\\frac{3x^3-2x^2-x}{-4x^3+3x^2+2x+1}=-1-\\frac{x(3x^2-2x-1)}{-4x^3+3x^2+2x+1}=-1-\\frac{x(3x+1)(x-1)}{-4x^3+3x^2+2x+1}$$"
   ]
  },
  {
   "cell_type": "markdown",
   "metadata": {},
   "source": [
    "### $$f'(x)=(-1)'-\\bigl(\\frac{x(3x+1)(x-1)}{-4x^3+3x^2+2x+1}\\bigr)'=\\bigl(\\frac{-x(3x+1)(x-1)}{-4x^3+3x^2+2x+1}\\bigr)'$$"
   ]
  },
  {
   "cell_type": "markdown",
   "metadata": {},
   "source": [
    "### Применим формулу: $$f'(x)=f(x)\\cdot(\\ln{f(x)})'$$"
   ]
  },
  {
   "cell_type": "markdown",
   "metadata": {},
   "source": [
    "### $$f'(x)=\\bigl(\\frac{-x(3x+1)(x-1)}{-4x^3+3x^2+2x+1}\\bigr)'=\\frac{-x(3x+1)(x-1)}{-4x^3+3x^2+2x+1}\\cdot\\bigl(\\ln\\frac{-x(3x+1)(x-1)}{-4x^3+3x^2+2x+1}\\bigr)'=$$"
   ]
  },
  {
   "cell_type": "markdown",
   "metadata": {},
   "source": [
    "### $$=\\frac{-x(3x+1)(x-1)}{-4x^3+3x^2+2x+1}\\cdot\\bigl(\\ln(-x)+\\ln(3x+1)+\\ln(x-1)-\\ln(-4x^3+3x^2+2x+1)\\bigr)'=$$"
   ]
  },
  {
   "cell_type": "markdown",
   "metadata": {},
   "source": [
    "### $$=\\frac{-x(3x+1)(x-1)}{-4x^3+3x^2+2x+1}\\cdot\\bigl(\\frac{1}{x}+\\frac{3}{3x+1}+\\frac{1}{x-1}-\\frac{-12x^2+6x+2}{-4x^3+3x^2+2x+1}\\bigr)=$$"
   ]
  },
  {
   "cell_type": "markdown",
   "metadata": {},
   "source": [
    "### $$=\\frac{-1}{(-4x^3+3x^2+2x+1)^2}\\cdot\\bigl((3x+1)(x-1)(-4x^3+3x^2+2x+1)+3x(x-1)(-4x^3+3x^2+2x+1)+x(3x+1)(-4x^3+3x^2+2x+1)-x(3x+1)(x-1)(-12x^2+6x+2)\\bigr)$$"
   ]
  },
  {
   "cell_type": "markdown",
   "metadata": {},
   "source": [
    "### $$f'(x_0)=f'(0)=-1\\cdot(1\\cdot(-1)\\cdot1+0+0+0)=1$$"
   ]
  },
  {
   "cell_type": "markdown",
   "metadata": {},
   "source": [
    "## _Ответ:_ $f'(0)=1$"
   ]
  },
  {
   "cell_type": "markdown",
   "metadata": {},
   "source": [
    "## 4. Найти угол наклона касательной к графику функции в точке:"
   ]
  },
  {
   "cell_type": "markdown",
   "metadata": {},
   "source": [
    "### $$f(x)=\\sqrt{3x}\\cdot\\ln{x},\\,\\,x_0=1$$"
   ]
  },
  {
   "cell_type": "markdown",
   "metadata": {},
   "source": [
    "### $$f'(x)=(\\sqrt{3x})'\\cdot\\ln{x}+\\sqrt{3x}\\cdot(\\ln{x})'=\\frac{3\\ln{x}}{2\\sqrt{3x}}+\\frac{\\sqrt{3x}}{x}=$$"
   ]
  },
  {
   "cell_type": "markdown",
   "metadata": {},
   "source": [
    "### $$=\\frac{\\sqrt{3}\\ln{x}}{2\\sqrt{x}}+\\frac{\\sqrt{3}}{\\sqrt{x}}=\\frac{\\sqrt{3}\\ln{x}+2\\sqrt{3}}{2\\sqrt{x}}=\\frac{\\sqrt{3}\\cdot(\\ln{x}+2)}{2\\sqrt{x}}$$"
   ]
  },
  {
   "cell_type": "markdown",
   "metadata": {},
   "source": [
    "### $$f'(x_0)=f'(1)=\\frac{\\sqrt{3}\\cdot(\\ln{1}+2)}{2\\sqrt{1}}=\\sqrt{3}$$"
   ]
  },
  {
   "cell_type": "markdown",
   "metadata": {},
   "source": [
    "### $$f'(x_0)=\\tan\\alpha\\Rightarrow\\alpha=\\arctan{f'(x_0)}$$"
   ]
  },
  {
   "cell_type": "markdown",
   "metadata": {},
   "source": [
    "### $$\\alpha=\\arctan{\\sqrt{3}}=\\frac{\\pi}{3}$$"
   ]
  },
  {
   "cell_type": "markdown",
   "metadata": {},
   "source": [
    "## _Ответ:_ $\\frac{\\pi}{3}$"
   ]
  }
 ],
 "metadata": {
  "kernelspec": {
   "display_name": "Python 3",
   "language": "python",
   "name": "python3"
  },
  "language_info": {
   "codemirror_mode": {
    "name": "ipython",
    "version": 3
   },
   "file_extension": ".py",
   "mimetype": "text/x-python",
   "name": "python",
   "nbconvert_exporter": "python",
   "pygments_lexer": "ipython3",
   "version": "3.8.5"
  }
 },
 "nbformat": 4,
 "nbformat_minor": 4
}
