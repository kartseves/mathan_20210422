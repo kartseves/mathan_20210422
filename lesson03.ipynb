{
 "cells": [
  {
   "cell_type": "markdown",
   "metadata": {},
   "source": [
    "### Множество. Последовательность."
   ]
  },
  {
   "cell_type": "markdown",
   "metadata": {},
   "source": [
    "##### Как относятся друг к другу множество и последовательность? (в ответе использовать слова типа: часть, целое, общее, частное, родитель, дочерний субъект и т.д.)"
   ]
  },
  {
   "cell_type": "markdown",
   "metadata": {},
   "source": [
    "Последовательность это частный случай множеств. В последовательности могут быть только вещественные числа, последовательность упорядоченна."
   ]
  },
  {
   "cell_type": "markdown",
   "metadata": {},
   "source": [
    "### Последовательность."
   ]
  },
  {
   "cell_type": "markdown",
   "metadata": {},
   "source": [
    "#### 1. Даны 4 последовательности. Необходимо:"
   ]
  },
  {
   "cell_type": "markdown",
   "metadata": {},
   "source": [
    "- исследовать их на монотонность;\n",
    "- исследовать на ограниченность;\n",
    "- найти пятый по счету член.\n"
   ]
  },
  {
   "cell_type": "markdown",
   "metadata": {},
   "source": [
    "### а) $\\{a_n\\}_{n=1}^\\infty=2^n - n$"
   ]
  },
  {
   "cell_type": "code",
   "execution_count": 1,
   "metadata": {},
   "outputs": [
    {
     "name": "stdout",
     "output_type": "stream",
     "text": [
      "[1, 2, 5, 12, 27]\n"
     ]
    }
   ],
   "source": [
    "start_n = 1\n",
    "n = 5\n",
    "a = [0]*n\n",
    "for i in range(start_n, start_n + n):\n",
    "    a[i-start_n] = 2**i-i\n",
    "print(a)"
   ]
  },
  {
   "cell_type": "markdown",
   "metadata": {},
   "source": [
    "__Ответ__: Монотонно возрастающая, неограниченная, $a_5=27$"
   ]
  },
  {
   "cell_type": "markdown",
   "metadata": {},
   "source": [
    "### б) $\\{b_n\\}_{n=2}^\\infty=\\frac{1}{1 - n}$"
   ]
  },
  {
   "cell_type": "code",
   "execution_count": 2,
   "metadata": {},
   "outputs": [
    {
     "name": "stdout",
     "output_type": "stream",
     "text": [
      "[-1.0, -0.5, -0.3333333333333333, -0.25, -0.2]\n"
     ]
    }
   ],
   "source": [
    "start_n = 2\n",
    "n = 5\n",
    "a = [0]*n\n",
    "for i in range(start_n, start_n + n):\n",
    "    a[i-start_n] = 1/(1-i)\n",
    "print(a)"
   ]
  },
  {
   "cell_type": "markdown",
   "metadata": {},
   "source": [
    "__Ответ__: Монотонно возрастающая, ограниченная 0, $a_5=-0.2$"
   ]
  },
  {
   "cell_type": "markdown",
   "metadata": {},
   "source": [
    "### в) $\\{c_n\\}_{n=1}^\\infty=-1^n + \\sqrt{2n}$"
   ]
  },
  {
   "cell_type": "code",
   "execution_count": 3,
   "metadata": {},
   "outputs": [
    {
     "name": "stdout",
     "output_type": "stream",
     "text": [
      "[0.41421356237309515, 3.0, 1.4494897427831779, 3.8284271247461903, 2.1622776601683795]\n"
     ]
    }
   ],
   "source": [
    "start_n = 1\n",
    "n = 5\n",
    "a = [0]*n\n",
    "for i in range(start_n, start_n + n):\n",
    "    a[i-start_n] = (-1)**i + (2*i)**0.5\n",
    "print(a)"
   ]
  },
  {
   "cell_type": "markdown",
   "metadata": {},
   "source": [
    "__Ответ__: Немонотонная, неограниченная, $a_5=-1 + \\sqrt10$"
   ]
  },
  {
   "cell_type": "markdown",
   "metadata": {},
   "source": [
    "### г) $\\{d_n\\}_{n=1}^\\infty=(-1)^{2n} + \\frac{1}{n^2}$"
   ]
  },
  {
   "cell_type": "code",
   "execution_count": 4,
   "metadata": {},
   "outputs": [
    {
     "name": "stdout",
     "output_type": "stream",
     "text": [
      "[2.0, 1.25, 1.1111111111111112, 1.0625, 1.04]\n"
     ]
    }
   ],
   "source": [
    "start_n = 1\n",
    "n = 5\n",
    "a = [0]*n\n",
    "for i in range(start_n, start_n + n):\n",
    "    a[i-start_n] = (-1)**(2*i) + 1/(i**2)\n",
    "print(a)"
   ]
  },
  {
   "cell_type": "markdown",
   "metadata": {},
   "source": [
    "__Ответ__: Монотонно убывающая, ограниченная 1, $a_5=1.04$"
   ]
  },
  {
   "cell_type": "markdown",
   "metadata": {},
   "source": [
    "#### 2. Найти 12-й член заданной неявно последовательности"
   ]
  },
  {
   "cell_type": "markdown",
   "metadata": {},
   "source": [
    "### $a_1=128, a_{n+1} - a_n =6$"
   ]
  },
  {
   "cell_type": "markdown",
   "metadata": {},
   "source": [
    "$a_1=128, a_{n+1} - a_n =6$ можно записать в виде $a_{n+1} = a_n + 6$ или $a_n=6(n-1)+128$"
   ]
  },
  {
   "cell_type": "code",
   "execution_count": 5,
   "metadata": {},
   "outputs": [
    {
     "name": "stdout",
     "output_type": "stream",
     "text": [
      "[128, 134, 140, 146, 152, 158, 164, 170, 176, 182, 188, 194]\n",
      "[128, 134, 140, 146, 152, 158, 164, 170, 176, 182, 188, 194]\n"
     ]
    }
   ],
   "source": [
    "n = 12\n",
    "a = [0]*n\n",
    "\n",
    "a[0]=128\n",
    "\n",
    "for i in range(1, n, 1):\n",
    "    a[i] = a[i-1]+6\n",
    "print(a)\n",
    "\n",
    "for i in range(n):\n",
    "    a[i] = 6*i+128\n",
    "print(a)"
   ]
  },
  {
   "cell_type": "markdown",
   "metadata": {},
   "source": [
    "__Ответ__: $a_{12}=194$"
   ]
  }
 ],
 "metadata": {
  "kernelspec": {
   "display_name": "Python 3",
   "language": "python",
   "name": "python3"
  },
  "language_info": {
   "codemirror_mode": {
    "name": "ipython",
    "version": 3
   },
   "file_extension": ".py",
   "mimetype": "text/x-python",
   "name": "python",
   "nbconvert_exporter": "python",
   "pygments_lexer": "ipython3",
   "version": "3.8.5"
  }
 },
 "nbformat": 4,
 "nbformat_minor": 4
}
