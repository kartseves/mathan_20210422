{
 "cells": [
  {
   "cell_type": "markdown",
   "metadata": {},
   "source": [
    "### Предел функции"
   ]
  },
  {
   "cell_type": "markdown",
   "metadata": {},
   "source": [
    "#### 4. Найти предел:"
   ]
  },
  {
   "cell_type": "markdown",
   "metadata": {},
   "source": [
    "$$c)\\,\\,\\,\\,\\lim_{x\\to \\infty}\\Bigr(\\frac{x+3}{x}\\Bigl)^{4x+1}$$"
   ]
  },
  {
   "cell_type": "markdown",
   "metadata": {},
   "source": [
    "c)\n",
    "$$\\lim_{x\\to \\infty}\\Bigr(\\frac{x+3}{x}\\Bigl)^{4x+1}=\\lim_{x\\to \\infty}\\Bigr(1+\\frac{3}{x}\\Bigl)^{4x+1}=(1)^{+\\infty}=$$"
   ]
  },
  {
   "cell_type": "markdown",
   "metadata": {},
   "source": [
    "$$=\\lim_{x\\to \\infty}\\Bigr(1+\\frac{3}{x}\\Bigl)^{\\frac{x}{3}\\cdot\\frac{3}{x}\\cdot(4x+1)}=\\lim_{x\\to \\infty} e^{\\frac{3(4x+1)}{x}}=e^{12}$$"
   ]
  },
  {
   "cell_type": "markdown",
   "metadata": {},
   "source": [
    "_Ответ:_ $e^{12}$"
   ]
  },
  {
   "cell_type": "markdown",
   "metadata": {},
   "source": [
    "### Теоремы о пределах"
   ]
  },
  {
   "cell_type": "markdown",
   "metadata": {},
   "source": [
    "#### 1. Найти предел:"
   ]
  },
  {
   "cell_type": "markdown",
   "metadata": {},
   "source": [
    "$$a)\\,\\,\\,\\,\\lim_{x\\to 0}\\frac{\\sin(2x)}{4x}$$"
   ]
  },
  {
   "cell_type": "markdown",
   "metadata": {},
   "source": [
    "$$b)\\,\\,\\,\\,\\lim_{x\\to 0}\\frac{x}{\\sin(x)}$$"
   ]
  },
  {
   "cell_type": "markdown",
   "metadata": {},
   "source": [
    "$$с)\\,\\,\\,\\,\\lim_{x\\to 0}\\frac{x}{\\arcsin(x)}$$"
   ]
  },
  {
   "cell_type": "markdown",
   "metadata": {},
   "source": [
    "$$d)\\,\\,\\,\\,\\lim_{x\\to \\infty}\\Bigr(\\frac{4x+3}{4x-3}\\Bigl)^{6x}$$"
   ]
  },
  {
   "cell_type": "markdown",
   "metadata": {},
   "source": [
    "$$e)\\,\\,\\,\\,\\lim_{x\\to \\infty}\\frac{\\sin{x}+\\ln{x}}{x}$$"
   ]
  },
  {
   "cell_type": "markdown",
   "metadata": {},
   "source": [
    "$$f)\\,\\,\\,\\,\\lim_{x\\to 0}\\frac{\\sin{x}+\\ln{x}}{x}$$"
   ]
  },
  {
   "cell_type": "markdown",
   "metadata": {},
   "source": [
    "a)\n",
    "$$\\lim_{x\\to 0}\\frac{\\sin(2x)}{4x}=\\Bigl(\\frac{0}{0}\\Bigr)=$$"
   ]
  },
  {
   "cell_type": "markdown",
   "metadata": {},
   "source": [
    "$$=\\lim_{x\\to 0} \\frac{2\\sin 2x}{4\\cdot2x}=\\frac{1}{2}$$"
   ]
  },
  {
   "cell_type": "markdown",
   "metadata": {},
   "source": [
    "_Ответ:_ $\\frac{1}{2}$"
   ]
  },
  {
   "cell_type": "markdown",
   "metadata": {},
   "source": [
    "b)\n",
    "$$\\lim_{x\\to 0}\\frac{x}{\\sin(x)}=\\Bigl(\\frac{0}{0}\\Bigr)=1,$$ следствие из первого замечательного предела"
   ]
  },
  {
   "cell_type": "markdown",
   "metadata": {},
   "source": [
    "_Ответ:_ $1$"
   ]
  },
  {
   "cell_type": "markdown",
   "metadata": {},
   "source": [
    "с)\n",
    "$$\\lim_{x\\to 0}\\frac{x}{\\arcsin(x)}=\\Bigl(\\frac{0}{0}\\Bigr)=$$"
   ]
  },
  {
   "cell_type": "markdown",
   "metadata": {},
   "source": [
    "В пределе $\\arcsin x$ можно заменить на $x$, если $x\\to 0$"
   ]
  },
  {
   "cell_type": "markdown",
   "metadata": {},
   "source": [
    "$$=\\lim_{x\\to 0}\\frac{x}{x}=1$$"
   ]
  },
  {
   "cell_type": "markdown",
   "metadata": {},
   "source": [
    "_Ответ:_ $1$"
   ]
  },
  {
   "cell_type": "markdown",
   "metadata": {},
   "source": [
    "d)\n",
    "$$\\lim_{x\\to \\infty}\\Bigr(\\frac{4x+3}{4x-3}\\Bigl)^{6x}=(1)^{+\\infty}=$$"
   ]
  },
  {
   "cell_type": "markdown",
   "metadata": {},
   "source": [
    "$$=\\lim_{x\\to \\infty}\\Bigr(\\frac{4x-3+6}{4x-3}\\Bigl)^{6x}=\\lim_{x\\to \\infty}\\Bigr(1+\\frac{6}{4x-3}\\Bigl)^{6x}=$$"
   ]
  },
  {
   "cell_type": "markdown",
   "metadata": {},
   "source": [
    "$$=\\lim_{x\\to \\infty}\\Bigr(1+\\frac{6}{4x-3}\\Bigl)^{\\frac{4x-3}{6}\\cdot\\frac{6}{4x-3}\\cdot(6x)}=\\lim_{x\\to \\infty} e^{\\frac{36x}{4x-3}}=e^{9}$$"
   ]
  },
  {
   "cell_type": "markdown",
   "metadata": {},
   "source": [
    "_Ответ:_ $e^{9}$"
   ]
  },
  {
   "cell_type": "markdown",
   "metadata": {},
   "source": [
    "e)\n",
    "$$\\lim_{x\\to \\infty}\\frac{\\sin{x}+\\ln{x}}{x}=\\lim_{x\\to \\infty}\\frac{\\sin{x}}{x}+\\lim_{x\\to \\infty}\\frac{\\ln{x}}{x}=0+\\lim_{x\\to \\infty}\\frac{\\ln{x}}{x}=$$"
   ]
  },
  {
   "cell_type": "markdown",
   "metadata": {},
   "source": [
    "Применим правило Лопиталя"
   ]
  },
  {
   "cell_type": "markdown",
   "metadata": {},
   "source": [
    "$$=\\lim_{x\\to \\infty}\\frac{(\\ln{x})'}{(x)'}=\\lim_{x\\to \\infty}\\frac{1}{x}=0$$"
   ]
  },
  {
   "cell_type": "markdown",
   "metadata": {},
   "source": [
    "_Ответ:_ $0$"
   ]
  },
  {
   "cell_type": "markdown",
   "metadata": {},
   "source": [
    "f)\n",
    "$$\\lim_{x\\to 0}\\frac{\\sin{x}+\\ln{x}}{x}=\\lim_{x\\to 0}\\frac{\\sin{x}}{x}+\\lim_{x\\to 0}\\frac{\\ln{x}}{x}=1+\\lim_{x\\to 0}\\frac{\\ln{x}}{x}=$$"
   ]
  },
  {
   "cell_type": "markdown",
   "metadata": {},
   "source": [
    "Применим правило Лопиталя"
   ]
  },
  {
   "cell_type": "markdown",
   "metadata": {},
   "source": [
    "$$=1+\\lim_{x\\to 0}\\frac{(\\ln{x})'}{(x)'}=1+\\lim_{x\\to 0}\\frac{1}{x}$$"
   ]
  },
  {
   "cell_type": "markdown",
   "metadata": {},
   "source": [
    "Как видно из графика гиперболы, двустороннего предела при $x\\to 0$ не существует:"
   ]
  },
  {
   "cell_type": "markdown",
   "metadata": {},
   "source": [
    "$$\\lim_{x\\to 0^+}\\frac{1}{x}=\\infty$$"
   ]
  },
  {
   "cell_type": "markdown",
   "metadata": {},
   "source": [
    "$$\\lim_{x\\to 0^-}\\frac{1}{x}=-\\infty$$"
   ]
  },
  {
   "cell_type": "markdown",
   "metadata": {},
   "source": [
    "_Ответ:_ $-\\infty$ при $x\\to 0^-$, $\\infty$ при $x\\to 0^+$"
   ]
  },
  {
   "cell_type": "markdown",
   "metadata": {},
   "source": [
    "### Понятие о производной"
   ]
  },
  {
   "cell_type": "markdown",
   "metadata": {},
   "source": [
    "#### 1. Найти производную выражения:"
   ]
  },
  {
   "cell_type": "markdown",
   "metadata": {},
   "source": [
    "$$a.\\,\\,\\,\\,\\sin x\\cdot\\cos x$$"
   ]
  },
  {
   "cell_type": "markdown",
   "metadata": {},
   "source": [
    "$$b.\\,\\,\\,\\,\\ln(2x+1)^3$$"
   ]
  },
  {
   "cell_type": "markdown",
   "metadata": {},
   "source": [
    "$$d.\\,\\,\\,\\,\\frac{x^4}{\\ln(x)}$$"
   ]
  },
  {
   "cell_type": "markdown",
   "metadata": {},
   "source": [
    "a.\n",
    "$$(sin x\\cdot\\cos x)'=(\\sin x)'\\cdot\\cos x+sin x\\cdot(\\cos x)'=\\cos^2 x-\\sin^2 x=\\cos 2x$$"
   ]
  },
  {
   "cell_type": "markdown",
   "metadata": {},
   "source": [
    "$$(sin x\\cdot\\cos x)'=(\\frac{1}{2}\\sin 2x)'=\\frac{1}{2}\\cdot\\cos 2x\\cdot(2x)'=\\cos 2x$$"
   ]
  },
  {
   "cell_type": "markdown",
   "metadata": {},
   "source": [
    "_Ответ:_ $\\cos 2x$"
   ]
  },
  {
   "cell_type": "markdown",
   "metadata": {},
   "source": [
    "b.\n",
    "$$(\\ln(2x+1)^3)'=(3\\cdot\\ln(2x+1))'=3\\cdot\\frac{1}{2x+1}\\cdot(2x+1)'=\\frac{6}{2x+1}$$"
   ]
  },
  {
   "cell_type": "markdown",
   "metadata": {},
   "source": [
    "_Ответ:_ $\\frac{6}{2x+1}$"
   ]
  },
  {
   "cell_type": "markdown",
   "metadata": {},
   "source": [
    "d.\n",
    "$$\\bigr(\\frac{x^4}{\\ln(x)}\\bigl)'=\\frac{(x^4)'\\cdot\\ln(x)-x^4\\cdot(\\ln(x))'}{\\ln^2(x)}=\\frac{4x^3\\cdot\\ln(x)-x^4\\cdot\\frac{1}{x}}{\\ln^2(x)}=\\frac{x^3\\cdot(4\\ln(x)-1)}{\\ln^2(x)}$$"
   ]
  },
  {
   "cell_type": "markdown",
   "metadata": {},
   "source": [
    "_Ответ:_ $\\frac{x^3\\cdot(4\\ln(x)-1)}{\\ln^2(x)}$"
   ]
  }
 ],
 "metadata": {
  "kernelspec": {
   "display_name": "Python 3",
   "language": "python",
   "name": "python3"
  },
  "language_info": {
   "codemirror_mode": {
    "name": "ipython",
    "version": 3
   },
   "file_extension": ".py",
   "mimetype": "text/x-python",
   "name": "python",
   "nbconvert_exporter": "python",
   "pygments_lexer": "ipython3",
   "version": "3.8.5"
  }
 },
 "nbformat": 4,
 "nbformat_minor": 4
}
