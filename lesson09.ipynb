{
 "cells": [
  {
   "cell_type": "markdown",
   "metadata": {},
   "source": [
    "# Производные функций нескольких переменных. Часть 2"
   ]
  },
  {
   "cell_type": "markdown",
   "metadata": {},
   "source": [
    "## 1. Исследовать функцию на условный экстремум"
   ]
  },
  {
   "cell_type": "markdown",
   "metadata": {},
   "source": [
    "### $$U=3-8x+6y,\\,если\\,x^2+y^2=36$$"
   ]
  },
  {
   "cell_type": "markdown",
   "metadata": {},
   "source": [
    "Составим функцию Лагранжа:"
   ]
  },
  {
   "cell_type": "markdown",
   "metadata": {},
   "source": [
    "### $$L(x,y,\\lambda)=3-8x+6y +\\lambda \\cdot (x^2+y^2-36)$$"
   ]
  },
  {
   "cell_type": "markdown",
   "metadata": {},
   "source": [
    "Найдем частные производные, приравняем их к нулю и решим систему уравнений:"
   ]
  },
  {
   "cell_type": "markdown",
   "metadata": {},
   "source": [
    "### $$\\begin{cases}\n",
    "   L'_{x}=-8+\\lambda \\cdot2x=0, \\\\\n",
    "   L'_{y}=6+\\lambda \\cdot2y=0, \\\\\n",
    "   L'_{\\lambda}=x^2+y^2-36=0\n",
    " \\end{cases}$$"
   ]
  },
  {
   "cell_type": "markdown",
   "metadata": {},
   "source": [
    "Выразим из первого уравнения $x$, из второго $y$ и подставим всё в третье:"
   ]
  },
  {
   "cell_type": "markdown",
   "metadata": {},
   "source": [
    "### $$\\begin{cases}\n",
    "   x=\\frac{8}{2\\lambda}, \\\\\n",
    "   y=-\\frac{6}{2\\lambda}, \\\\\n",
    "   \\Bigr(\\frac{8}{2\\lambda}\\Bigl)^2+\\Bigr(-\\frac{6}{2\\lambda}\\Bigl)^2=36\n",
    " \\end{cases}\\Rightarrow \n",
    " \\begin{cases}\n",
    "   x=\\frac{8}{2\\lambda}, \\\\\n",
    "   y=-\\frac{6}{2\\lambda}, \\\\\n",
    "   \\frac{100}{4\\lambda^2}=36\n",
    " \\end{cases}\\Rightarrow \n",
    " \\begin{cases}\n",
    "   x=\\frac{8}{2\\lambda}, \\\\\n",
    "   y=-\\frac{6}{2\\lambda}, \\\\\n",
    "   \\lambda^2=\\frac{25}{36}\n",
    " \\end{cases}$$"
   ]
  },
  {
   "cell_type": "markdown",
   "metadata": {},
   "source": [
    "### Получаем две точки: $(\\frac{24}{5},-\\frac{18}{5},\\frac{5}{6})$ и $(-\\frac{24}{5},\\frac{18}{5},-\\frac{5}{6})$"
   ]
  },
  {
   "cell_type": "markdown",
   "metadata": {},
   "source": [
    "Найдем вторые производные:"
   ]
  },
  {
   "cell_type": "markdown",
   "metadata": {},
   "source": [
    "### $$L''_{xx}=2\\lambda$$\n",
    "### $$L''_{yy}=2\\lambda$$\n",
    "### $$L''_{\\lambda \\lambda}=0$$\n",
    "### $$L''_{xy}=L''_{yx}=0$$\n",
    "### $$L''_{x\\lambda}=L''_{\\lambda x}=2x$$\n",
    "### $$L''_{y\\lambda}=L''_{\\lambda y}=2y$$ "
   ]
  },
  {
   "cell_type": "markdown",
   "metadata": {},
   "source": [
    "Составим матрицу Гёссе:"
   ]
  },
  {
   "cell_type": "markdown",
   "metadata": {},
   "source": [
    "### $$\\begin{pmatrix}\n",
    "L''_{\\lambda \\lambda} & L''_{\\lambda x} & L''_{\\lambda y}\\\\ \n",
    "L''_{x \\lambda} & L''_{xx} & L''_{xy}\\\\\n",
    "L''_{y \\lambda} & L''_{yx} & L''_{yy}\\\\\n",
    "\\end{pmatrix}\\Rightarrow\n",
    "\\begin{pmatrix}\n",
    "0 & 2x & 2y\\\\ \n",
    "2x & 2\\lambda & 0\\\\\n",
    "2y & 0 & 2\\lambda\\\\\n",
    "\\end{pmatrix}$$"
   ]
  },
  {
   "cell_type": "markdown",
   "metadata": {},
   "source": [
    "Далее найдем определитель в общем виде, а затем уже разберемся с каждой точкой."
   ]
  },
  {
   "cell_type": "markdown",
   "metadata": {},
   "source": [
    "### $$\\Delta=\\begin{vmatrix}\n",
    "0 & 2x & 2y\\\\ \n",
    "2x & 2\\lambda & 0\\\\\n",
    "2y & 0 & 2\\lambda\\\\\n",
    "\\end{vmatrix}=\n",
    "\\begin{vmatrix}\n",
    "+ & - & +\\\\ \n",
    "- & + & -\\\\\n",
    "+ & - & +\\\\\n",
    "\\end{vmatrix}=0\\cdot\n",
    "\\begin{vmatrix}\n",
    "2\\lambda & 0\\\\\n",
    "0 & 2\\lambda\\\\\n",
    "\\end{vmatrix}-2x\\cdot\n",
    "\\begin{vmatrix}\n",
    "2x & 0\\\\\n",
    "2y & 2\\lambda\\\\\n",
    "\\end{vmatrix}+2y\\cdot\n",
    "\\begin{vmatrix}\n",
    "2x & 2\\lambda\\\\\n",
    "2y & 0\\\\\n",
    "\\end{vmatrix}=(-2x)\\cdot 4x\\lambda+2y \\cdot(-4y\\lambda)=-8\\lambda(x^2+y^2)$$\n"
   ]
  },
  {
   "cell_type": "markdown",
   "metadata": {},
   "source": [
    "По условию задачи $x^2+y^2=36$, тогда \n",
    "### $$\\Delta=-8\\lambda \\cdot 36 = -288\\lambda$$\n",
    "\n",
    "Т.е. знак определителя зависит только от знака $\\lambda$.\n",
    "\n",
    "Если $\\lambda=\\frac{5}{6}$, то $\\Delta<0$, следовательно $(\\frac{24}{5},-\\frac{18}{5},\\frac{5}{6})$ - точка минимума.\n",
    "\n",
    "Если $\\lambda=-\\frac{5}{6}$, то $\\Delta>0$, следовательно $(-\\frac{24}{5},\\frac{18}{5},-\\frac{5}{6})$ - точка максимума."
   ]
  },
  {
   "cell_type": "markdown",
   "metadata": {},
   "source": [
    "### _Ответ:_ $(\\frac{24}{5},-\\frac{18}{5},\\frac{5}{6})$ - точка минимума, $(-\\frac{24}{5},\\frac{18}{5},-\\frac{5}{6})$ - точка максимума."
   ]
  },
  {
   "cell_type": "markdown",
   "metadata": {},
   "source": [
    "## 2. Исследовать функцию на условный экстремум"
   ]
  },
  {
   "cell_type": "markdown",
   "metadata": {},
   "source": [
    "### $$U=2x^2+12xy+32y^2+15,\\,если\\,x^2+16y^2=64$$"
   ]
  },
  {
   "cell_type": "markdown",
   "metadata": {},
   "source": [
    "Составим функцию Лагранжа:"
   ]
  },
  {
   "cell_type": "markdown",
   "metadata": {},
   "source": [
    "### $$L(x,y,\\lambda)=2x^2+12xy+32y^2+15 +\\lambda \\cdot (x^2+16y^2-64)$$"
   ]
  },
  {
   "cell_type": "markdown",
   "metadata": {},
   "source": [
    "Найдем частные производные, приравняем их к нулю и решим систему уравнений:"
   ]
  },
  {
   "cell_type": "markdown",
   "metadata": {},
   "source": [
    "### $$\\begin{cases}\n",
    "   L'_{x}=4x+12y+\\lambda \\cdot2x=0, \\\\\n",
    "   L'_{y}=12x+64y+\\lambda \\cdot32y=0, \\\\\n",
    "   L'_{\\lambda}=x^2+16y^2-64=0\n",
    " \\end{cases}$$"
   ]
  },
  {
   "cell_type": "markdown",
   "metadata": {},
   "source": [
    "Данная система уравнений имеет 4 решения (спасибо сервису https://www.kontrolnaya-rabota.ru/s/equal-many/):"
   ]
  },
  {
   "cell_type": "markdown",
   "metadata": {},
   "source": [
    "### $$(-4\\sqrt{2},\\, -\\sqrt{2}, -\\frac{7}{2})$$\n",
    "\n",
    "### $$(-4\\sqrt{2},\\, \\sqrt{2}, -\\frac{1}{2})$$\n",
    "\n",
    "### $$(4\\sqrt{2},\\, -\\sqrt{2}, -\\frac{1}{2})$$\n",
    "\n",
    "### $$(4\\sqrt{2},\\, \\sqrt{2}, -\\frac{7}{2})$$"
   ]
  },
  {
   "cell_type": "markdown",
   "metadata": {},
   "source": [
    "Найдем вторые производные:"
   ]
  },
  {
   "cell_type": "markdown",
   "metadata": {},
   "source": [
    "### $$L''_{xx}=2\\lambda+4$$\n",
    "### $$L''_{yy}=32\\lambda+64$$\n",
    "### $$L''_{\\lambda \\lambda}=0$$\n",
    "### $$L''_{xy}=L''_{yx}=12$$\n",
    "### $$L''_{x\\lambda}=L''_{\\lambda x}=2x$$\n",
    "### $$L''_{y\\lambda}=L''_{\\lambda y}=32y$$ "
   ]
  },
  {
   "cell_type": "markdown",
   "metadata": {},
   "source": [
    "Составим матрицу Гёссе:"
   ]
  },
  {
   "cell_type": "markdown",
   "metadata": {},
   "source": [
    "### $$\\begin{pmatrix}\n",
    "L''_{\\lambda \\lambda} & L''_{\\lambda x} & L''_{\\lambda y}\\\\ \n",
    "L''_{x \\lambda} & L''_{xx} & L''_{xy}\\\\\n",
    "L''_{y \\lambda} & L''_{yx} & L''_{yy}\\\\\n",
    "\\end{pmatrix}\\Rightarrow\n",
    "\\begin{pmatrix}\n",
    "0 & 2x & 32y\\\\ \n",
    "2x & 2\\lambda+4 & 12\\\\\n",
    "32y & 12 & 32\\lambda+64\\\\\n",
    "\\end{pmatrix}$$"
   ]
  },
  {
   "cell_type": "markdown",
   "metadata": {},
   "source": [
    "Далее найдем определитель в общем виде, а затем уже разберемся с каждой точкой."
   ]
  },
  {
   "cell_type": "markdown",
   "metadata": {},
   "source": [
    "### $$\\Delta=\\begin{vmatrix}\n",
    "0 & 2x & 32y\\\\ \n",
    "2x & 2\\lambda+4 & 12\\\\\n",
    "32y & 12 & 32\\lambda+64\\\\\n",
    "\\end{vmatrix}=\n",
    "=0\\cdot\n",
    "\\begin{vmatrix}\n",
    "2\\lambda+4 & 12\\\\\n",
    "12 & 32\\lambda+64\\\\\n",
    "\\end{vmatrix}-2x\\cdot\n",
    "\\begin{vmatrix}\n",
    "2x & 12\\\\\n",
    "32y & 32\\lambda+64\\\\\n",
    "\\end{vmatrix}+32y\\cdot\n",
    "\\begin{vmatrix}\n",
    "2x & 2\\lambda+4\\\\\n",
    "32y & 12\\\\\n",
    "\\end{vmatrix}=$$\n"
   ]
  },
  {
   "cell_type": "markdown",
   "metadata": {},
   "source": [
    "### $$=-2x\\cdot (64x\\lambda+128x-384y)+32y\\cdot(24x-64y\\lambda-128y)=$$\n"
   ]
  },
  {
   "cell_type": "markdown",
   "metadata": {},
   "source": [
    "### $$=-128\\cdot(x^2\\lambda+2x^2-6xy)+256\\cdot(3xy-8y^2\\lambda-16y^2)=-128\\cdot(x^2\\lambda-6xy)+256\\cdot(3xy-8y^2\\lambda)-256x^2-256\\cdot16y^2=-128\\cdot(x^2\\lambda-6xy)+256\\cdot(3xy-8y^2\\lambda)-256\\cdot(x^2+16y^2)$$\n"
   ]
  },
  {
   "cell_type": "markdown",
   "metadata": {},
   "source": [
    "По условию задачи $x^2+16y^2=64$, тогда \n",
    "### $$\\Delta=-128\\cdot(x^2\\lambda-6xy)+256\\cdot(3xy-8y^2\\lambda)-256\\cdot 64$$\n"
   ]
  },
  {
   "cell_type": "markdown",
   "metadata": {},
   "source": [
    "Найдем значения определителя для точек:"
   ]
  },
  {
   "cell_type": "code",
   "execution_count": 1,
   "metadata": {},
   "outputs": [
    {
     "data": {
      "text/plain": [
       "24576.000000000007"
      ]
     },
     "execution_count": 1,
     "metadata": {},
     "output_type": "execute_result"
    }
   ],
   "source": [
    "x=-4*(2**(1/2))\n",
    "y=-(2**(1/2))\n",
    "l=-7/2\n",
    "-128*(l*x**2-6*x*y)+256*(3*x*y-8*l*y**2)-256*64"
   ]
  },
  {
   "cell_type": "markdown",
   "metadata": {},
   "source": [
    "### $$\\Delta|_{(-4\\sqrt{2},\\, -\\sqrt{2}, -\\frac{7}{2})}=24576>0\\Rightarrow\\,точка\\,(-4\\sqrt{2},\\, -\\sqrt{2}, -\\frac{7}{2})\\,-\\, это\\,максимум$$\n"
   ]
  },
  {
   "cell_type": "code",
   "execution_count": 2,
   "metadata": {},
   "outputs": [
    {
     "data": {
      "text/plain": [
       "-24576.0"
      ]
     },
     "execution_count": 2,
     "metadata": {},
     "output_type": "execute_result"
    }
   ],
   "source": [
    "x=-4*(2**(1/2))\n",
    "y=(2**(1/2))\n",
    "l=-1/2\n",
    "-128*(l*x**2-6*x*y)+256*(3*x*y-8*l*y**2)-256*64"
   ]
  },
  {
   "cell_type": "markdown",
   "metadata": {},
   "source": [
    "### $$\\Delta|_{(-4\\sqrt{2},\\, \\sqrt{2}, -\\frac{1}{2})}=-24576<0\\Rightarrow\\,точка\\,(-4\\sqrt{2},\\, \\sqrt{2}, -\\frac{1}{2})\\,-\\, это\\,минимум$$\n"
   ]
  },
  {
   "cell_type": "code",
   "execution_count": 3,
   "metadata": {},
   "outputs": [
    {
     "data": {
      "text/plain": [
       "-24576.0"
      ]
     },
     "execution_count": 3,
     "metadata": {},
     "output_type": "execute_result"
    }
   ],
   "source": [
    "x=4*(2**(1/2))\n",
    "y=-(2**(1/2))\n",
    "l=-1/2\n",
    "-128*(l*x**2-6*x*y)+256*(3*x*y-8*l*y**2)-256*64"
   ]
  },
  {
   "cell_type": "markdown",
   "metadata": {},
   "source": [
    "### $$\\Delta|_{(4\\sqrt{2},\\, -\\sqrt{2}, -\\frac{1}{2})}=-24576<0\\Rightarrow\\,точка\\,(4\\sqrt{2},\\, -\\sqrt{2}, -\\frac{1}{2})\\,-\\, это\\,минимум$$\n"
   ]
  },
  {
   "cell_type": "code",
   "execution_count": 4,
   "metadata": {},
   "outputs": [
    {
     "data": {
      "text/plain": [
       "24576.000000000007"
      ]
     },
     "execution_count": 4,
     "metadata": {},
     "output_type": "execute_result"
    }
   ],
   "source": [
    "x=4*(2**(1/2))\n",
    "y=(2**(1/2))\n",
    "l=-7/2\n",
    "-128*(l*x**2-6*x*y)+256*(3*x*y-8*l*y**2)-256*64"
   ]
  },
  {
   "cell_type": "markdown",
   "metadata": {},
   "source": [
    "### $$\\Delta|_{(4\\sqrt{2},\\, \\sqrt{2}, -\\frac{7}{2})}=24576>0\\Rightarrow\\,точка\\,(4\\sqrt{2},\\, \\sqrt{2}, -\\frac{7}{2})\\,-\\, это\\,максимум$$\n"
   ]
  },
  {
   "cell_type": "markdown",
   "metadata": {},
   "source": [
    "### _Ответ:_ $(-4\\sqrt{2},\\, \\sqrt{2}, -\\frac{1}{2}),\\,(4\\sqrt{2},\\, -\\sqrt{2}, -\\frac{1}{2})$ - точки минимума, $(-4\\sqrt{2},\\, -\\sqrt{2}, -\\frac{7}{2}),\\,(4\\sqrt{2},\\, \\sqrt{2}, -\\frac{7}{2})$ - точки максимума."
   ]
  },
  {
   "cell_type": "markdown",
   "metadata": {},
   "source": [
    "## 3. Найти производную функции $U=x^2+y^2+z^2$ по направлению вектора $\\overrightarrow{c}(-9,\\,  8,\\,-12)$ в точке $M(8,\\, -12,\\, 9)$"
   ]
  },
  {
   "cell_type": "markdown",
   "metadata": {},
   "source": [
    "Найдем длину вектора $\\overrightarrow{c}$:"
   ]
  },
  {
   "cell_type": "markdown",
   "metadata": {},
   "source": [
    "### $$|\\overrightarrow{c}|=\\sqrt{x^2_{0}+y^2_{0}+z^2_{0}}=\\sqrt{(-9)^2+8^2+(-12)^2}=\\sqrt{289}=17$$"
   ]
  },
  {
   "cell_type": "markdown",
   "metadata": {},
   "source": [
    "Запишем единичный вектор $\\overrightarrow{c}_{0}$:"
   ]
  },
  {
   "cell_type": "markdown",
   "metadata": {},
   "source": [
    "### $$\\overrightarrow{c_{0}}=\\frac{\\overrightarrow{c}}{|\\overrightarrow{c}|}=\\Bigr(-\\frac{9}{17},\\,\\frac{8}{17},\\,-\\frac{12}{17}\\Bigl)$$"
   ]
  },
  {
   "cell_type": "markdown",
   "metadata": {},
   "source": [
    "Теперь найдем градиент в точке $M(8,\\, -12,\\, 9)$:"
   ]
  },
  {
   "cell_type": "markdown",
   "metadata": {},
   "source": [
    "### $$U'_{x}=2x$$\n",
    "\n",
    "### $$U'_{y}=2y$$\n",
    "\n",
    "### $$U'_{z}=2z$$\n",
    "\n",
    "### $$\\mbox{grad}U=(16,\\, -24,\\, 18)$$"
   ]
  },
  {
   "cell_type": "markdown",
   "metadata": {},
   "source": [
    "Посчитаем значение производной:"
   ]
  },
  {
   "cell_type": "markdown",
   "metadata": {},
   "source": [
    "### $$U'_{\\overrightarrow{с}}=-\\frac{9}{17}\\cdot 16+\\frac{8}{17}\\cdot (-24)-\\frac{12}{17}\\cdot 18=\\frac{-144-192-216}{17}=-\\frac{552}{17}$$"
   ]
  },
  {
   "cell_type": "markdown",
   "metadata": {},
   "source": [
    "### _Ответ:_ $-\\frac{552}{17}$"
   ]
  },
  {
   "cell_type": "markdown",
   "metadata": {},
   "source": [
    "## 4. Найти производную функции $U=e^{x^2+y^2+z^2}$ по направлению вектора $\\overrightarrow{d}(4,\\, -13,\\, -16)$ в точке $M(-16,\\, 4,\\, 13)$"
   ]
  },
  {
   "cell_type": "markdown",
   "metadata": {},
   "source": [
    "Найдем длину вектора $\\overrightarrow{d}$:"
   ]
  },
  {
   "cell_type": "markdown",
   "metadata": {},
   "source": [
    "### $$|\\overrightarrow{d}|=\\sqrt{x^2_{0}+y^2_{0}+z^2_{0}}=\\sqrt{4^2+(-13)^2+(-16)^2}=\\sqrt{441}=21$$"
   ]
  },
  {
   "cell_type": "markdown",
   "metadata": {},
   "source": [
    "Запишем единичный вектор $\\overrightarrow{d}_{0}$:"
   ]
  },
  {
   "cell_type": "markdown",
   "metadata": {},
   "source": [
    "### $$\\overrightarrow{d_{0}}=\\frac{\\overrightarrow{d}}{|\\overrightarrow{d}|}=\\Bigr(\\frac{4}{21},\\,-\\frac{13}{21},\\,-\\frac{16}{21}\\Bigl)$$"
   ]
  },
  {
   "cell_type": "markdown",
   "metadata": {},
   "source": [
    "Теперь найдем градиент в точке $M(-16,\\, 4,\\, 13)$:"
   ]
  },
  {
   "cell_type": "markdown",
   "metadata": {},
   "source": [
    "### $$U'_{x}=e^{x^2+y^2+z^2}\\cdot2x$$\n",
    "\n",
    "### $$U'_{y}=e^{x^2+y^2+z^2}\\cdot2y$$\n",
    "\n",
    "### $$U'_{z}=e^{x^2+y^2+z^2}\\cdot2z$$\n",
    "\n",
    "### $$\\mbox{grad}U=(-32e^{441},\\, 8e^{441},\\, 26e^{441})$$"
   ]
  },
  {
   "cell_type": "markdown",
   "metadata": {},
   "source": [
    "Посчитаем значение производной:"
   ]
  },
  {
   "cell_type": "markdown",
   "metadata": {},
   "source": [
    "### $$U'_{\\overrightarrow{d}}=\\frac{4}{21}\\cdot (-32e^{441})-\\frac{13}{21}\\cdot 8e^{441}-\\frac{16}{21}\\cdot 26e^{441}=\\frac{(-128-104-416)e^{441}}{21}=-\\frac{648 e^{441}}{21}$$"
   ]
  },
  {
   "cell_type": "markdown",
   "metadata": {},
   "source": [
    "### _Ответ:_ $-\\frac{648 e^{441}}{21}$"
   ]
  }
 ],
 "metadata": {
  "kernelspec": {
   "display_name": "Python 3",
   "language": "python",
   "name": "python3"
  },
  "language_info": {
   "codemirror_mode": {
    "name": "ipython",
    "version": 3
   },
   "file_extension": ".py",
   "mimetype": "text/x-python",
   "name": "python",
   "nbconvert_exporter": "python",
   "pygments_lexer": "ipython3",
   "version": "3.8.5"
  }
 },
 "nbformat": 4,
 "nbformat_minor": 4
}
