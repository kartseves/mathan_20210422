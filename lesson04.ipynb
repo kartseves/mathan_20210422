{
 "cells": [
  {
   "cell_type": "markdown",
   "metadata": {},
   "source": [
    "### Предел функции"
   ]
  },
  {
   "cell_type": "markdown",
   "metadata": {},
   "source": [
    "#### 1. Предложить пример функции, не имеющей предела в нуле и в бесконечностях."
   ]
  },
  {
   "cell_type": "markdown",
   "metadata": {},
   "source": [
    "_Ответ:_ __Функция Дирихле__ — функция, принимающая единицу на рациональных значениях, и нуль — на иррациональных."
   ]
  },
  {
   "cell_type": "markdown",
   "metadata": {},
   "source": [
    "$$D(x)=\\begin{cases}\n",
    "   1, x\\in\\mathbb{Q},\\\\\n",
    "   0, x\\in\\mathbb{R}\\setminus\\mathbb{Q}\n",
    " \\end{cases}$$"
   ]
  },
  {
   "cell_type": "markdown",
   "metadata": {},
   "source": [
    "#### 2. Привести пример функции, не имеющей предела в точке, но определенной в ней."
   ]
  },
  {
   "cell_type": "markdown",
   "metadata": {},
   "source": [
    "_Ответ:_ __sgn__ — кусочно-постоянная функция действительного аргумента. Не имеет предела в точке 0, но определена в ней."
   ]
  },
  {
   "cell_type": "markdown",
   "metadata": {},
   "source": [
    "$${sgn}(x)=\\begin{cases}\n",
    "   1, x>0, \\\\\n",
    "   0, x=0\\\\\n",
    "   -1, x<0\n",
    " \\end{cases}$$"
   ]
  },
  {
   "cell_type": "markdown",
   "metadata": {},
   "source": [
    "#### 3. Исследовать функцию $f(x)={x^3}-{x^2}$ по плану:\n",
    "- Область задания и область значений.\n",
    "- Нули функции и их кратность.\n",
    "- Отрезки знакопостоянства.\n",
    "- Интервалы монотонности.\n",
    "- Четность функции.\n",
    "- Ограниченность.\n",
    "- Периодичность."
   ]
  },
  {
   "cell_type": "markdown",
   "metadata": {},
   "source": [
    "__a) Область задания и область значений.__"
   ]
  },
  {
   "cell_type": "markdown",
   "metadata": {},
   "source": [
    "_Ответ:_ $x\\in\\mathbb{R}, f(x)\\in\\mathbb{R}$"
   ]
  },
  {
   "cell_type": "markdown",
   "metadata": {},
   "source": [
    "__b) Нули функции и их кратность.__"
   ]
  },
  {
   "cell_type": "markdown",
   "metadata": {},
   "source": [
    "$f(x)=0 \\Rightarrow{x^3}-{x^2}=0 \\Rightarrow {x^2}(x-1)=0$"
   ]
  },
  {
   "cell_type": "markdown",
   "metadata": {},
   "source": [
    "$x_{1,2}=0, x_3=1$"
   ]
  },
  {
   "cell_type": "markdown",
   "metadata": {},
   "source": [
    "_Ответ:_ $x=0$, кратность 2; $x=1$, кратность 1"
   ]
  },
  {
   "cell_type": "markdown",
   "metadata": {},
   "source": [
    "__c) Отрезки знакопостоянства.__"
   ]
  },
  {
   "cell_type": "markdown",
   "metadata": {},
   "source": [
    "${x^2}(x-1)>0 \\Rightarrow x\\neq0, (x-1)>0 \\Rightarrow x\\neq0, x>1$ "
   ]
  },
  {
   "cell_type": "markdown",
   "metadata": {},
   "source": [
    "${x^2}(x-1)<0 \\Rightarrow x\\neq0, (x-1)<0 \\Rightarrow x\\neq0, x<1$ "
   ]
  },
  {
   "cell_type": "markdown",
   "metadata": {},
   "source": [
    "_Ответ:_ $f(x)<0\\spaceпри\\space x\\in(-\\infty; 0),\\space(0;1);\\space f(x)>0\\spaceпри\\space x\\in(1; \\infty)$"
   ]
  },
  {
   "cell_type": "markdown",
   "metadata": {},
   "source": [
    "__d) Интервалы монотонности.__"
   ]
  },
  {
   "cell_type": "markdown",
   "metadata": {},
   "source": [
    "$f'(x)=3{x^2}-2x$"
   ]
  },
  {
   "cell_type": "markdown",
   "metadata": {},
   "source": [
    "$f'(x)=0\\Rightarrow3{x^2}-2x=0\\Rightarrow x(3x-2)=0\\Rightarrow x_1=0, x_2=\\frac{2}{3}$"
   ]
  },
  {
   "cell_type": "markdown",
   "metadata": {},
   "source": [
    "$f'(-1)=3{(-1)^2}-2(-1)=5\\space>\\space0\\Rightarrow f(x)\\spaceвозрастает$"
   ]
  },
  {
   "cell_type": "markdown",
   "metadata": {},
   "source": [
    "$f'(\\frac{1}{2})=3{(\\frac{1}{2})^2}-2(\\frac{1}{2})=-\\frac{1}{4}\\space<\\space0\\Rightarrow f(x)\\spaceубывает$"
   ]
  },
  {
   "cell_type": "markdown",
   "metadata": {},
   "source": [
    "$f'(1)=3{(1)^2}-2(1)=1\\space>\\space0\\Rightarrow f(x)\\spaceвозрастает$"
   ]
  },
  {
   "cell_type": "markdown",
   "metadata": {},
   "source": [
    "_Ответ:_ $f(x)\\spaceвозрастает\\spaceпри\\space x\\in(-\\infty; 0), (\\frac{2}{3};\\infty);\\space f(x)\\spaceубывает\\spaceпри\\space x\\in(0; \\frac{2}{3})$"
   ]
  },
  {
   "cell_type": "markdown",
   "metadata": {},
   "source": [
    "__e) Четность функции.__"
   ]
  },
  {
   "cell_type": "markdown",
   "metadata": {},
   "source": [
    "$f(-х)={(-x)^3}-{(-x)^2}=-{x^3}-{x^2}$"
   ]
  },
  {
   "cell_type": "markdown",
   "metadata": {},
   "source": [
    "$f(-х)\\neq f(x)\\Rightarrow f(x)$ не является четной"
   ]
  },
  {
   "cell_type": "markdown",
   "metadata": {},
   "source": [
    "$f(-х)\\neq-f(x)\\Rightarrow f(x)$ не является нечетной"
   ]
  },
  {
   "cell_type": "markdown",
   "metadata": {},
   "source": [
    "_Ответ:_ $f(x)$ является функцией общего вида"
   ]
  },
  {
   "cell_type": "markdown",
   "metadata": {},
   "source": [
    "__f) Ограниченность.__"
   ]
  },
  {
   "cell_type": "markdown",
   "metadata": {},
   "source": [
    "_Ответ:_ $f(x)$ неограниченная"
   ]
  },
  {
   "cell_type": "markdown",
   "metadata": {},
   "source": [
    "__g) Периодичность.__"
   ]
  },
  {
   "cell_type": "markdown",
   "metadata": {},
   "source": [
    "_Ответ:_ $f(x)$ непериодическая"
   ]
  },
  {
   "cell_type": "markdown",
   "metadata": {},
   "source": [
    "#### 4. Найти предел:"
   ]
  },
  {
   "cell_type": "markdown",
   "metadata": {},
   "source": [
    "$$a)\\,\\,\\,\\,\\lim_{x\\to 0}\\frac{3x^3-2x^2}{4x^2}$$"
   ]
  },
  {
   "cell_type": "markdown",
   "metadata": {},
   "source": [
    "$$b)\\,\\,\\,\\,\\lim_{x\\to 0}\\frac{\\sqrt{1+x}-1}{\\sqrt[3]{1+x}-1}$$"
   ]
  },
  {
   "cell_type": "markdown",
   "metadata": {},
   "source": [
    "a)\n",
    "$$\\lim_{x\\to 0}\\frac{3x^3-2x^2}{4x^2}=\\Bigl(\\frac{0}{0}\\Bigr)=$$"
   ]
  },
  {
   "cell_type": "markdown",
   "metadata": {},
   "source": [
    "$$\\lim_{x\\to 0}\\frac{x^2(3x-2)}{4x^2}=\\lim_{x\\to 0}\\frac{3x-2}{4}=\\frac{0-2}{4}=-\\frac{1}{2}$$"
   ]
  },
  {
   "cell_type": "markdown",
   "metadata": {},
   "source": [
    "_Ответ:_ $-\\frac{1}{2}$"
   ]
  },
  {
   "cell_type": "markdown",
   "metadata": {},
   "source": [
    "b)\n",
    "$$\\lim_{x\\to 0}\\frac{\\sqrt{1+x}-1}{\\sqrt[3]{1+x}-1}=\\Bigl(\\frac{0}{0}\\Bigr)=$$"
   ]
  },
  {
   "cell_type": "markdown",
   "metadata": {},
   "source": [
    "$$\\lim_{x\\to 0}\\frac{(\\sqrt{1+x}-1)(\\sqrt{1+x}+1)}{(\\sqrt[3]{1+x}-1)(\\sqrt{1+x}+1)}=\\lim_{x\\to 0}\\frac{(1+x-1)}{(\\sqrt[3]{1+x}-1)(\\sqrt{1+x}+1)}=$$"
   ]
  },
  {
   "cell_type": "markdown",
   "metadata": {},
   "source": [
    "$$\\lim_{x\\to 0}\\frac{x}{\\sqrt[3]{1+x}-1}\\lim_{x\\to 0}\\frac{1}{\\sqrt{1+x}+1}=\\frac{1}{2}\\lim_{x\\to 0}\\frac{x}{\\sqrt[3]{1+x}-1}$$"
   ]
  },
  {
   "cell_type": "markdown",
   "metadata": {},
   "source": [
    "$$\\frac{1}{2}\\lim_{x\\to 0}\\frac{x((\\sqrt[3]{1+x})^2+\\sqrt[3]{1+x}+1)}{(\\sqrt[3]{1+x}-1)((\\sqrt[3]{1+x})^2+\\sqrt[3]{1+x}+1)}=\\frac{1}{2}\\lim_{x\\to 0}\\frac{x((\\sqrt[3]{1+x})^2+\\sqrt[3]{1+x}+1)}{1+x-1}=\\frac{1}{2}\\lim_{x\\to 0}(\\sqrt[3]{1+x})^2+\\sqrt[3]{1+x}+1=\\frac{3}{2}$$"
   ]
  },
  {
   "cell_type": "markdown",
   "metadata": {},
   "source": [
    "_Ответ:_ $\\frac{3}{2}$"
   ]
  }
 ],
 "metadata": {
  "kernelspec": {
   "display_name": "Python 3",
   "language": "python",
   "name": "python3"
  },
  "language_info": {
   "codemirror_mode": {
    "name": "ipython",
    "version": 3
   },
   "file_extension": ".py",
   "mimetype": "text/x-python",
   "name": "python",
   "nbconvert_exporter": "python",
   "pygments_lexer": "ipython3",
   "version": "3.8.5"
  }
 },
 "nbformat": 4,
 "nbformat_minor": 4
}
