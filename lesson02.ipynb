{
 "cells": [
  {
   "cell_type": "markdown",
   "metadata": {},
   "source": [
    "### Теория множеств"
   ]
  },
  {
   "cell_type": "markdown",
   "metadata": {},
   "source": [
    "##### Прочитать высказывания математической логики, построить их отрицания и установить истинность."
   ]
  },
  {
   "cell_type": "markdown",
   "metadata": {},
   "source": [
    "а) $\\forall y\\in[0; 1]: sgn(y)=1$"
   ]
  },
  {
   "cell_type": "markdown",
   "metadata": {},
   "source": [
    "__Чтение__: Для всех у, принадлежащим отрезку от 0 до 1, знак y равен 1.\n",
    "\n",
    "__Отрицание__: $\\exists y\\in[0; 1]: sgn(y)\\neq1$\n",
    "\n",
    "Исходное высказывание __ложно__. Для у=0, sgn(y)=0"
   ]
  },
  {
   "cell_type": "markdown",
   "metadata": {},
   "source": [
    "б) $\\forall n\\in\\mathbb{N}>2:\\exists x,y,z\\in\\mathbb{N}:x^n=y^n + z^n$"
   ]
  },
  {
   "cell_type": "markdown",
   "metadata": {},
   "source": [
    "__Чтение__: Для всех n, принадлежащим множеству натуральных чисел $\\mathbb{N}$ и больших 2, существуют такие x, y, z, принадлежащие множеству натуральных чисел $\\mathbb{N}$, для которых выполняется равенство $x^n=y^n + z^n$.\n",
    "\n",
    "__Отрицание__: $\\exists n\\in\\mathbb{N}>2:\\forall x,y,z\\in\\mathbb{N}:x^n \\neq y^n + z^n$\n",
    "\n",
    "Исходное высказывание __ложно__. Например, при n = 3, для x=1, у=1, z=1, $1^3 \\neq 1^3 + 1^3$"
   ]
  },
  {
   "cell_type": "markdown",
   "metadata": {},
   "source": [
    "в) $\\forall x\\in\\mathbb{R}\\exists X\\in\\mathbb{R}:X > x$"
   ]
  },
  {
   "cell_type": "markdown",
   "metadata": {},
   "source": [
    "__Чтение__: Для всех x, принадлежащим множеству вещественных чисел $\\mathbb{R}$, существует множество X вещественных чисел $\\mathbb{R}$, для которых все его элементы больше x.\n",
    "\n",
    "__Отрицание__: $\\exists x\\in\\mathbb{R}\\forall Х\\in\\mathbb{R}: X \\leq x$\n",
    "\n",
    "Исходное высказывание __истинно__. Не существует такого x, которое бы всегда было больше всех элементов произвольного подмножества вещественных чисел. "
   ]
  },
  {
   "cell_type": "markdown",
   "metadata": {},
   "source": [
    "г) $\\forall x\\in\\mathbb{C}\\,\\nexists y\\in\\mathbb{C}:x > y || x < y$"
   ]
  },
  {
   "cell_type": "markdown",
   "metadata": {},
   "source": [
    "__Чтение__: Для всех x, принадлежащим множеству комплексных чисел $\\mathbb{C}$, не существует y, принадлежащего множеству комплексных чисел $\\mathbb{C}$, который был бы меньше x либо больше х.\n",
    "\n",
    "__Отрицание__: $\\exists x\\in\\mathbb{C}\\,\\exists y\\in\\mathbb{C}: x\\leq y,x\\geq y$\n",
    "\n",
    "Исходное высказывание __ложно__. Из множества комплексных чисел $\\mathbb{C}$ Можно выбрать x,y равные друг другу. "
   ]
  },
  {
   "cell_type": "markdown",
   "metadata": {},
   "source": [
    "д) $\\forall y\\in\\Bigl[0; \\frac{\\pi}{2}\\Bigr]\\exists\\varepsilon>0:\\sin y<\\sin(y+\\varepsilon)$"
   ]
  },
  {
   "cell_type": "markdown",
   "metadata": {},
   "source": [
    "__Чтение__: Для всех y, принадлежащих отрезку от 0 до  $\\frac{\\pi}{2}$, существует $\\varepsilon$ > 0, при котором $\\sin y$ меньше $\\sin(y+\\varepsilon)$.\n",
    "\n",
    "__Отрицание__: $\\exists y\\in\\Bigl[0; \\frac{\\pi}{2}\\Bigr]\\forall\\varepsilon>0:\\sin y\\geq\\sin(y+\\varepsilon)$\n",
    "\n",
    "Исходное высказывание __ложно__. При у = $\\frac{\\pi}{2}$ для любого $\\varepsilon$ > 0 значение $\\sin(\\frac{\\pi}{2}+\\varepsilon)$ не будет больше $\\sin(\\frac{\\pi}{2})=1$. "
   ]
  },
  {
   "cell_type": "markdown",
   "metadata": {},
   "source": [
    "д) $\\forall y\\in\\Bigl[0; \\pi\\Bigr)\\exists\\varepsilon>0:\\cos y>\\cos(y+\\varepsilon)$"
   ]
  },
  {
   "cell_type": "markdown",
   "metadata": {},
   "source": [
    "__Чтение__: Для всех y, принадлежащих промежутку от 0 до $\\pi$ не включительно, существует $\\varepsilon$ > 0, при котором $\\cos y$ больше $\\cos(y+\\varepsilon)$.\n",
    "\n",
    "__Отрицание__: $\\exists y\\in\\Bigl[0; \\pi\\Bigr)\\forall\\varepsilon>0:\\cos y\\leq\\cos(y+\\varepsilon)$\n",
    "\n",
    "Исходное высказывание __ложно__. При y = $\\pi - \\varepsilon$ значение $\\cos y = \\cos(\\pi - \\varepsilon)$ будет больше $\\cos(y+\\varepsilon)=\\cos\\pi=-1$. "
   ]
  },
  {
   "cell_type": "markdown",
   "metadata": {},
   "source": [
    "е) $\\exists x:x\\notin\\{\\mathbb{N},\\mathbb{Z},\\mathbb{Q},\\mathbb{R},\\mathbb{C}\\}$"
   ]
  },
  {
   "cell_type": "markdown",
   "metadata": {},
   "source": [
    "__Чтение__: Существует x, не принадлежащее множеству состоящему из натуральных, целых, рациональных, вещественных и комплексных чисел.\n",
    "\n",
    "__Отрицание__: $\\forall x:x\\in\\{\\mathbb{N},\\mathbb{Z},\\mathbb{Q},\\mathbb{R},\\mathbb{C}\\}$\n",
    "\n",
    "Исходное высказывание __истинно__. Существуют множества гиперкомплексных чисел ($\\mathbb{H},\\mathbb{O},\\mathbb{S}$)."
   ]
  },
  {
   "cell_type": "markdown",
   "metadata": {},
   "source": [
    "### Теория множеств"
   ]
  },
  {
   "cell_type": "markdown",
   "metadata": {},
   "source": [
    "##### Даны три множества a,b и с. Необходимо выполнить все изученные виды бинарных операций над всеми комбинациями множеств."
   ]
  },
  {
   "cell_type": "code",
   "execution_count": 1,
   "metadata": {},
   "outputs": [],
   "source": [
    "#Зададим множества А, В и С. Не обязательно числовые\n",
    "A = {1, 2, 3, 4, 5, \"A\", \"B\", \"E\"}\n",
    "B = {4, 5, 6, 7, 8, \"A\", \"C\", \"F\"}\n",
    "C = {7, 8, 9, 10, 11, \"A\", \"D\", \"E\"}"
   ]
  },
  {
   "cell_type": "code",
   "execution_count": 2,
   "metadata": {},
   "outputs": [],
   "source": [
    "print(f\"A = {A}; B = {B}; C = {C}\")\n",
    "print(f\"--------------\")\n",
    "\n",
    "# Объединение множеств можно проделать с помощью оператора \"|\" или функция union()\n",
    "print(f\"A | B = {A | B}\")\n",
    "print(f\"A | C = {A | C}\")\n",
    "print(f\"B | C = {B | C}\")\n",
    "print(f\"A | B | C = {A | B | C}\")\n",
    "\n",
    "print(f\"--------------\")\n",
    "\n",
    "print(f\"B.union(A) = {B.union(A)}\")\n",
    "print(f\"C.union(A) = {C.union(A)}\")\n",
    "print(f\"C.union(B) = {C.union(B)}\")\n",
    "print(f\"C.union(B).union(A) = {C.union(B).union(A)}\")"
   ]
  },
  {
   "cell_type": "code",
   "execution_count": 3,
   "metadata": {},
   "outputs": [
    {
     "name": "stdout",
     "output_type": "stream",
     "text": [
      "A = {1, 2, 3, 4, 5, 'A', 'E', 'B'}; B = {4, 5, 6, 7, 8, 'A', 'F', 'C'}; C = {'A', 7, 8, 9, 10, 11, 'D', 'E'}\n",
      "--------------\n",
      "A & B = {4, 5, 'A'}\n",
      "A & C = {'E', 'A'}\n",
      "B & C = {8, 'A', 7}\n",
      "A & B & C = {'A'}\n",
      "--------------\n",
      "B.intersection(A) = {4, 5, 'A'}\n",
      "C.intersection(A) = {'E', 'A'}\n",
      "C.intersection(B) = {8, 'A', 7}\n",
      "C.intersection(B).intersection(A) = {'A'}\n"
     ]
    }
   ],
   "source": [
    "print(f\"A = {A}; B = {B}; C = {C}\")\n",
    "print(f\"--------------\")\n",
    "\n",
    "# Пересечение с помощью оператора \"&\" или функция intersection()\n",
    "print(f\"A & B = {A & B}\")\n",
    "print(f\"A & C = {A & C}\")\n",
    "print(f\"B & C = {B & C}\")\n",
    "print(f\"A & B & C = {A & B & C}\")\n",
    "\n",
    "print(f\"--------------\")\n",
    "\n",
    "print(f\"B.intersection(A) = {B.intersection(A)}\")\n",
    "print(f\"C.intersection(A) = {C.intersection(A)}\")\n",
    "print(f\"C.intersection(B) = {C.intersection(B)}\")\n",
    "print(f\"C.intersection(B).intersection(A) = {C.intersection(B).intersection(A)}\")"
   ]
  },
  {
   "cell_type": "code",
   "execution_count": 4,
   "metadata": {},
   "outputs": [
    {
     "name": "stdout",
     "output_type": "stream",
     "text": [
      "A = {1, 2, 3, 4, 5, 'A', 'E', 'B'}; B = {4, 5, 6, 7, 8, 'A', 'F', 'C'}; C = {'A', 7, 8, 9, 10, 11, 'D', 'E'}\n",
      "--------------\n",
      "A - B = {1, 2, 3, 'E', 'B'}\n",
      "A - C = {1, 2, 3, 4, 5, 'B'}\n",
      "B - A = {'F', 6, 8, 7, 'C'}\n",
      "B - C = {4, 5, 6, 'F', 'C'}\n",
      "C - A = {7, 8, 9, 10, 11, 'D'}\n",
      "C - B = {'D', 9, 10, 11, 'E'}\n",
      "A - B - C = {1, 2, 3, 'B'}\n",
      "B - A - C = {'C', 'F', 6}\n",
      "C - A - B = {'D', 9, 10, 11}\n",
      "--------------\n",
      "A.difference(B) = {1, 2, 3, 'E', 'B'}\n",
      "A.difference(C) = {1, 2, 3, 4, 5, 'B'}\n",
      "B.difference(A) = {'F', 6, 8, 7, 'C'}\n",
      "B.difference(C) = {4, 5, 6, 'F', 'C'}\n",
      "C.difference(A) = {7, 8, 9, 10, 11, 'D'}\n",
      "C.difference(B) = {'D', 9, 10, 11, 'E'}\n",
      "A.difference(B).difference(C) = {1, 2, 3, 'B'}\n",
      "B.difference(A).difference(C) = {'C', 'F', 6}\n",
      "C.difference(A).difference(B) = {'D', 9, 10, 11}\n"
     ]
    }
   ],
   "source": [
    "print(f\"A = {A}; B = {B}; C = {C}\")\n",
    "print(f\"--------------\")\n",
    "\n",
    "# Разность с помощью оператора \"-\" или функция difference()\n",
    "print(f\"A - B = {A - B}\")\n",
    "print(f\"A - C = {A - C}\")\n",
    "print(f\"B - A = {B - A}\")\n",
    "print(f\"B - C = {B - C}\")\n",
    "print(f\"C - A = {C - A}\")\n",
    "print(f\"C - B = {C - B}\")\n",
    "print(f\"A - B - C = {A - B - C}\")\n",
    "print(f\"B - A - C = {B - A - C}\")\n",
    "print(f\"C - A - B = {C - A - B}\")\n",
    "\n",
    "print(f\"--------------\")\n",
    "\n",
    "print(f\"A.difference(B) = {A.difference(B)}\")\n",
    "print(f\"A.difference(C) = {A.difference(C)}\")\n",
    "print(f\"B.difference(A) = {B.difference(A)}\")\n",
    "print(f\"B.difference(C) = {B.difference(C)}\")\n",
    "print(f\"C.difference(A) = {C.difference(A)}\")\n",
    "print(f\"C.difference(B) = {C.difference(B)}\")\n",
    "print(f\"A.difference(B).difference(C) = {A.difference(B).difference(C)}\")\n",
    "print(f\"B.difference(A).difference(C) = {B.difference(A).difference(C)}\")\n",
    "print(f\"C.difference(A).difference(B) = {C.difference(A).difference(B)}\")\n"
   ]
  },
  {
   "cell_type": "code",
   "execution_count": 5,
   "metadata": {},
   "outputs": [
    {
     "name": "stdout",
     "output_type": "stream",
     "text": [
      "A = {1, 2, 3, 4, 5, 'A', 'E', 'B'}; B = {4, 5, 6, 7, 8, 'A', 'F', 'C'}; C = {'A', 7, 8, 9, 10, 11, 'D', 'E'}\n",
      "--------------\n",
      "A ^ B = {1, 2, 3, 6, 7, 8, 'F', 'E', 'B', 'C'}\n",
      "A ^ C = {1, 2, 3, 4, 5, 7, 8, 9, 10, 11, 'D', 'B'}\n",
      "B ^ C = {4, 5, 'F', 9, 10, 11, 'D', 6, 'E', 'C'}\n",
      "A ^ B ^ C = {1, 2, 3, 'A', 'F', 9, 10, 11, 'D', 6, 'B', 'C'}\n",
      "--------------\n",
      "B.symmetric_difference(A) = {1, 2, 3, 'F', 6, 7, 8, 'E', 'B', 'C'}\n",
      "C.symmetric_difference(A) = {1, 2, 3, 4, 5, 7, 8, 9, 10, 11, 'D', 'B'}\n",
      "C.symmetric_difference(B) = {4, 5, 6, 'D', 9, 'F', 10, 11, 'E', 'C'}\n",
      "C.symmetric_difference(B).symmetric_difference(A) = {1, 2, 3, 'A', 6, 'D', 9, 'F', 10, 11, 'B', 'C'}\n"
     ]
    }
   ],
   "source": [
    "print(f\"A = {A}; B = {B}; C = {C}\")\n",
    "print(f\"--------------\")\n",
    "\n",
    "#Симметричную разность с помощью оператора \"^\" или функция symmetric_difference()\n",
    "print(f\"A ^ B = {A ^ B}\")\n",
    "print(f\"A ^ C = {A ^ C}\")\n",
    "print(f\"B ^ C = {B ^ C}\")\n",
    "print(f\"A ^ B ^ C = {A ^ B ^ C}\")\n",
    "\n",
    "print(f\"--------------\")\n",
    "\n",
    "print(f\"B.symmetric_difference(A) = {B.symmetric_difference(A)}\")\n",
    "print(f\"C.symmetric_difference(A) = {C.symmetric_difference(A)}\")\n",
    "print(f\"C.symmetric_difference(B) = {C.symmetric_difference(B)}\")\n",
    "print(f\"C.symmetric_difference(B).symmetric_difference(A) = {C.symmetric_difference(B).symmetric_difference(A)}\")"
   ]
  }
 ],
 "metadata": {
  "kernelspec": {
   "display_name": "Python 3",
   "language": "python",
   "name": "python3"
  },
  "language_info": {
   "codemirror_mode": {
    "name": "ipython",
    "version": 3
   },
   "file_extension": ".py",
   "mimetype": "text/x-python",
   "name": "python",
   "nbconvert_exporter": "python",
   "pygments_lexer": "ipython3",
   "version": "3.8.5"
  }
 },
 "nbformat": 4,
 "nbformat_minor": 4
}
