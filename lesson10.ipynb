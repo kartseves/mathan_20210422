{
 "cells": [
  {
   "cell_type": "markdown",
   "metadata": {},
   "source": [
    "# Понятие об интеграле"
   ]
  },
  {
   "cell_type": "markdown",
   "metadata": {},
   "source": [
    "## 1. Найти неопределенный интеграл:"
   ]
  },
  {
   "cell_type": "markdown",
   "metadata": {},
   "source": [
    "### $$\\int(2x^2-2x-1+\\sin x-\\cos x+\\ln x+e^x)dx$$"
   ]
  },
  {
   "cell_type": "markdown",
   "metadata": {},
   "source": [
    "Все функции табличные кроме $\\ln x$. Найдем её интеграл по частям:"
   ]
  },
  {
   "cell_type": "markdown",
   "metadata": {},
   "source": [
    "### $$\\int U\\cdot dV=U\\cdot V-\\int V\\cdot dU$$\n",
    "\n",
    "### $$U=\\ln x\\Rightarrow dU=\\frac{1}{x}dx$$ \n",
    "\n",
    "### $$dV=dx\\Rightarrow V=x$$ \n",
    "\n",
    "Тогда:"
   ]
  },
  {
   "cell_type": "markdown",
   "metadata": {},
   "source": [
    "### $$\\int\\ln xdx=x\\ln x-\\int x\\cdot\\frac{1}{x}dx=x\\ln x-x+C$$"
   ]
  },
  {
   "cell_type": "markdown",
   "metadata": {},
   "source": [
    "### $$\\int(2x^2-2x-1+\\sin{x}-\\cos{x}+\\ln{x}+e^x)dx=\\frac{2x^3}{3}-x^2-x-\\cos{x}-\\sin{x}+x\\ln{x}-x+e^x+C=$$"
   ]
  },
  {
   "cell_type": "markdown",
   "metadata": {},
   "source": [
    "### $$=\\frac{2x^3}{3}-x^2-2x-\\cos{x}-\\sin{x}+x\\ln{x}+e^x+C$$"
   ]
  },
  {
   "cell_type": "markdown",
   "metadata": {},
   "source": [
    "### _Ответ:_ $\\frac{2x^3}{3}-x^2-2x-\\cos{x}-\\sin{x}+x\\ln{x}+e^x+C$"
   ]
  },
  {
   "cell_type": "markdown",
   "metadata": {},
   "source": [
    "## 2. Найти неопределенный интеграл:"
   ]
  },
  {
   "cell_type": "markdown",
   "metadata": {},
   "source": [
    "### $$\\int(2x+6xz^2-5x^2y-3\\ln{z})dx$$"
   ]
  },
  {
   "cell_type": "markdown",
   "metadata": {},
   "source": [
    "### $$\\int(2x+6xz^2-5x^2y-3\\ln{z})dx=x^2+3x^2z^2-\\frac{5x^3y}{3}-3x\\ln{z}+C=$$"
   ]
  },
  {
   "cell_type": "markdown",
   "metadata": {},
   "source": [
    "### $$=-\\frac{5x^3y}{3}+x^2(3z^2+1)-3x\\ln{z}+C$$"
   ]
  },
  {
   "cell_type": "markdown",
   "metadata": {},
   "source": [
    "### _Ответ:_ $-\\frac{5x^3y}{3}+x^2(3z^2+1)-3x\\ln{z}+C$"
   ]
  },
  {
   "cell_type": "markdown",
   "metadata": {},
   "source": [
    "## 3. Вычислить определенный интеграл:"
   ]
  },
  {
   "cell_type": "markdown",
   "metadata": {},
   "source": [
    "### $$\\int\\limits_{0}^\\pi 3x^2\\sin (2x)\\,dx$$"
   ]
  },
  {
   "cell_type": "markdown",
   "metadata": {},
   "source": [
    "Найдем его по частям:\n",
    "\n",
    "### $$\\int U\\cdot dV=U\\cdot V-\\int V\\cdot dU$$\n",
    "\n",
    "### $$U=3x^2\\Rightarrow dU=6xdx$$ \n",
    "\n",
    "### $$dV=\\sin(2x)dx\\Rightarrow V=-\\frac{1}{2}\\cos(2x)$$ \n",
    "\n",
    "Тогда:\n",
    "\n",
    "### $$\\int\\limits_{0}^\\pi 3x^2\\sin(2x)\\,dx=\\Bigr(3x^2\\cdot(-\\frac{1}{2}\\cos(2x))\\Bigl)\\bigg|_0^\\pi-\\int\\limits_{0}^\\pi (-\\frac{1}{2}\\cos(2x))\\cdot 6x\\,dx=$$\n",
    "\n",
    "### $$=-\\frac{3}{2}\\pi^2+\\int\\limits_{0}^\\pi 3x\\cos(2x)\\,dx$$\n",
    "\n",
    "Возьмем его еще раз по частям:\n",
    "\n",
    "### $$U=3x\\Rightarrow dU=3dx$$ \n",
    "### $$dV=\\cos(2x)dx\\Rightarrow V=\\frac{1}{2}\\sin(2x)$$ \n",
    "\n",
    "Получаем:\n",
    "\n",
    "### $$=-\\frac{3}{2}\\pi^2+\\Bigr(3x\\cdot\\frac{1}{2}\\sin(2x)\\Bigl)\\bigg|_0^\\pi-\\int\\limits_{0}^\\pi \\frac{1}{2}\\sin(2x)\\cdot 3\\,dx=-\\frac{3}{2}\\pi^2+\\Bigr(\\frac{3}{4}\\cos(2x)\\Bigl)\\bigg|_0^\\pi=-\\frac{3}{2}\\pi^2$$\n"
   ]
  },
  {
   "cell_type": "markdown",
   "metadata": {},
   "source": [
    "### _Ответ:_ $-\\frac{3}{2}\\pi^2$"
   ]
  },
  {
   "cell_type": "markdown",
   "metadata": {},
   "source": [
    "## 4. Найти неопределенный интеграл:"
   ]
  },
  {
   "cell_type": "markdown",
   "metadata": {},
   "source": [
    "### $$\\int\\frac{1}{\\sqrt{x+1}}dx$$"
   ]
  },
  {
   "cell_type": "markdown",
   "metadata": {},
   "source": [
    "### $$\\int\\frac{1}{\\sqrt{x+1}}dx=\\int(x+1)^{-\\frac{1}{2}}dx=2\\sqrt{x+1}+C$$"
   ]
  },
  {
   "cell_type": "markdown",
   "metadata": {},
   "source": [
    "### _Ответ:_ $2\\sqrt{x+1}+C$"
   ]
  }
 ],
 "metadata": {
  "kernelspec": {
   "display_name": "Python 3",
   "language": "python",
   "name": "python3"
  },
  "language_info": {
   "codemirror_mode": {
    "name": "ipython",
    "version": 3
   },
   "file_extension": ".py",
   "mimetype": "text/x-python",
   "name": "python",
   "nbconvert_exporter": "python",
   "pygments_lexer": "ipython3",
   "version": "3.8.5"
  }
 },
 "nbformat": 4,
 "nbformat_minor": 4
}
